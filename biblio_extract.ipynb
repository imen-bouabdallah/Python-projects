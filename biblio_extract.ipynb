{
  "nbformat": 4,
  "nbformat_minor": 0,
  "metadata": {
    "colab": {
      "name": "biblio_extract.ipynb",
      "provenance": [],
      "authorship_tag": "ABX9TyNlGzwsK7D18wizIO247Jfu",
      "include_colab_link": true
    },
    "kernelspec": {
      "name": "python3",
      "display_name": "Python 3"
    },
    "language_info": {
      "name": "python"
    }
  },
  "cells": [
    {
      "cell_type": "markdown",
      "metadata": {
        "id": "view-in-github",
        "colab_type": "text"
      },
      "source": [
        "<a href=\"https://colab.research.google.com/github/imou-imane/Python-projects/blob/main/biblio_extract.ipynb\" target=\"_parent\"><img src=\"https://colab.research.google.com/assets/colab-badge.svg\" alt=\"Open In Colab\"/></a>"
      ]
    },
    {
      "cell_type": "code",
      "metadata": {
        "id": "R3lWdTvs0crj"
      },
      "source": [
        "lines = []\n",
        "with open('sample_data/biblio.txt') as data:\n",
        "  lines  = data.readlines()"
      ],
      "execution_count": 44,
      "outputs": []
    },
    {
      "cell_type": "code",
      "metadata": {
        "id": "FpVXAbcK3_pK"
      },
      "source": [
        "biblio_result  = open(\"result\", 'w')"
      ],
      "execution_count": 45,
      "outputs": []
    },
    {
      "cell_type": "code",
      "metadata": {
        "colab": {
          "base_uri": "https://localhost:8080/"
        },
        "id": "cDw7ncme9S1j",
        "outputId": "29175219-3b84-403f-b634-ffb0a554bf06"
      },
      "source": [
        "for line in lines:\n",
        "  print(line[2:3])"
      ],
      "execution_count": 48,
      "outputs": [
        {
          "output_type": "stream",
          "text": [
            "]\n",
            "]\n",
            "]\n",
            "]\n",
            "]\n",
            "]\n",
            "]\n",
            "]\n",
            "]\n",
            "0\n",
            "1\n",
            "2\n",
            "3\n",
            "4\n",
            "5\n",
            "6\n",
            "7\n",
            "8\n",
            "9\n",
            "0\n",
            "1\n",
            "2\n",
            "3\n",
            "4\n",
            "5\n",
            "6\n",
            "7\n",
            "8\n",
            "9\n",
            "0\n",
            "1\n",
            "2\n",
            "3\n",
            "4\n",
            "5\n",
            "6\n",
            "7\n",
            "8\n",
            "9\n",
            "0\n",
            "1\n",
            "2\n",
            "3\n",
            "4\n",
            "5\n",
            "6\n",
            "7\n",
            "8\n",
            "9\n",
            "0\n",
            "1\n",
            "2\n",
            "3\n",
            "4\n",
            "5\n",
            "6\n",
            "7\n",
            "8\n",
            "\n"
          ],
          "name": "stdout"
        }
      ]
    },
    {
      "cell_type": "code",
      "metadata": {
        "id": "dShVFtJS4Gyk"
      },
      "source": [
        "for line in lines:\n",
        "  if (line[2:3]==']'):\n",
        "    bib = line[1:2]\n",
        "    long_cit = line[3:]\n",
        "  elif (line[3:4]==']'):\n",
        "    bib = line[1:3]\n",
        "    long_cit = line[4:]\n",
        "  elif (line[4:5]==']'):\n",
        "    bib = line[1:4]\n",
        "    long_cit = line[5:]\n",
        "  biblio_result.write(\"\\\\bibitem{\"+bib+\"}\")\n",
        "  biblio_result.write(\"\\n\")\n",
        "  biblio_result.write(long_cit)\n",
        "  biblio_result.write(\"\\n\")"
      ],
      "execution_count": 49,
      "outputs": []
    },
    {
      "cell_type": "code",
      "metadata": {
        "id": "3Lev2lY95_59"
      },
      "source": [
        "biblio_result.close()"
      ],
      "execution_count": 50,
      "outputs": []
    }
  ]
}