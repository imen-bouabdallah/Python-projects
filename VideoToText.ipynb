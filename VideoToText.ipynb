{
  "nbformat": 4,
  "nbformat_minor": 0,
  "metadata": {
    "colab": {
      "name": "VideoToText.ipynb",
      "provenance": [],
      "authorship_tag": "ABX9TyMBFCJXMZ6e1GdGkfZNZ6xf",
      "include_colab_link": true
    },
    "kernelspec": {
      "name": "python3",
      "display_name": "Python 3"
    }
  },
  "cells": [
    {
      "cell_type": "markdown",
      "metadata": {
        "id": "view-in-github",
        "colab_type": "text"
      },
      "source": [
        "<a href=\"https://colab.research.google.com/github/imou-imane/Python-projects/blob/main/VideoToText.ipynb\" target=\"_parent\"><img src=\"https://colab.research.google.com/assets/colab-badge.svg\" alt=\"Open In Colab\"/></a>"
      ]
    },
    {
      "cell_type": "markdown",
      "metadata": {
        "id": "zLk5BT5h2zru"
      },
      "source": [
        "This file to generate a text file from a video so as to be able to search for words in the video\n",
        "\n",
        "First we import the libraries"
      ]
    },
    {
      "cell_type": "code",
      "metadata": {
        "id": "LAEw-RRV2PYa"
      },
      "source": [
        "import os\n",
        "import speech_recognition as sr\n",
        "import moviepy as mp"
      ],
      "execution_count": null,
      "outputs": []
    },
    {
      "cell_type": "markdown",
      "metadata": {
        "id": "P7RQNtZy2siF"
      },
      "source": [
        "We start by converting the video to an audio (mp3 then mav or direcly to wavwhich have more features)"
      ]
    },
    {
      "cell_type": "code",
      "metadata": {
        "id": "Ztsstizk2pvR"
      },
      "source": [
        "clip = mp.VideoFileClip(r\"MyVid.mp4\") \n",
        " \n",
        "clip.audio.write_audiofile(r\"converted.wav\")"
      ],
      "execution_count": null,
      "outputs": []
    },
    {
      "cell_type": "markdown",
      "metadata": {
        "id": "LQZKT4kw4pwY"
      },
      "source": [
        "Now we use speech reconizer\n",
        "\n"
      ]
    },
    {
      "cell_type": "code",
      "metadata": {
        "id": "FV8gbOO34o7S"
      },
      "source": [
        "r = sr.Reconizer()\n",
        "\n",
        "audio = r.AudioFile(\"converted.wav\")\n",
        "\n",
        "with audio as source :\n",
        "  audio_file = r.record(source)\n",
        "\n",
        "result = r.reconize_google(audio_file)\n",
        "\n",
        "file = open('recognized.txt', 'w')\n",
        "file.write(result)\n",
        "\n",
        "file.close()"
      ],
      "execution_count": null,
      "outputs": []
    }
  ]
}